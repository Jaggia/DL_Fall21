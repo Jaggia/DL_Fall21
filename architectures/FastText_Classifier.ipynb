{
 "cells": [
  {
   "cell_type": "code",
   "execution_count": null,
   "id": "95e6d229",
   "metadata": {},
   "outputs": [],
   "source": [
    "# The following code uses FastText official Tutorials and docs in https://fasttext.cc/"
   ]
  },
  {
   "cell_type": "code",
   "execution_count": 1,
   "id": "39f25975",
   "metadata": {},
   "outputs": [],
   "source": [
    "# install needed packages\n",
    "import fasttext\n",
    "import pandas as pd\n",
    "import numpy as np\n",
    "from sklearn.utils import shuffle\n"
   ]
  },
  {
   "cell_type": "code",
   "execution_count": 2,
   "id": "44d33e9a",
   "metadata": {},
   "outputs": [
    {
     "data": {
      "text/html": [
       "<div>\n",
       "<style scoped>\n",
       "    .dataframe tbody tr th:only-of-type {\n",
       "        vertical-align: middle;\n",
       "    }\n",
       "\n",
       "    .dataframe tbody tr th {\n",
       "        vertical-align: top;\n",
       "    }\n",
       "\n",
       "    .dataframe thead th {\n",
       "        text-align: right;\n",
       "    }\n",
       "</style>\n",
       "<table border=\"1\" class=\"dataframe\">\n",
       "  <thead>\n",
       "    <tr style=\"text-align: right;\">\n",
       "      <th></th>\n",
       "      <th>headlineDesc</th>\n",
       "      <th>category</th>\n",
       "    </tr>\n",
       "  </thead>\n",
       "  <tbody>\n",
       "    <tr>\n",
       "      <th>0</th>\n",
       "      <td>There Were 2 Mass Shootings In Texas Last Week...</td>\n",
       "      <td>CRIME</td>\n",
       "    </tr>\n",
       "    <tr>\n",
       "      <th>1</th>\n",
       "      <td>Will Smith Joins Diplo And Nicky Jam For The 2...</td>\n",
       "      <td>ENTERTAINMENT</td>\n",
       "    </tr>\n",
       "    <tr>\n",
       "      <th>2</th>\n",
       "      <td>Hugh Grant Marries For The First Time At Age 5...</td>\n",
       "      <td>ENTERTAINMENT</td>\n",
       "    </tr>\n",
       "    <tr>\n",
       "      <th>3</th>\n",
       "      <td>Jim Carrey Blasts 'Castrato' Adam Schiff And D...</td>\n",
       "      <td>ENTERTAINMENT</td>\n",
       "    </tr>\n",
       "    <tr>\n",
       "      <th>4</th>\n",
       "      <td>Julianna Margulies Uses Donald Trump Poop Bags...</td>\n",
       "      <td>ENTERTAINMENT</td>\n",
       "    </tr>\n",
       "  </tbody>\n",
       "</table>\n",
       "</div>"
      ],
      "text/plain": [
       "                                        headlineDesc       category\n",
       "0  There Were 2 Mass Shootings In Texas Last Week...          CRIME\n",
       "1  Will Smith Joins Diplo And Nicky Jam For The 2...  ENTERTAINMENT\n",
       "2  Hugh Grant Marries For The First Time At Age 5...  ENTERTAINMENT\n",
       "3  Jim Carrey Blasts 'Castrato' Adam Schiff And D...  ENTERTAINMENT\n",
       "4  Julianna Margulies Uses Donald Trump Poop Bags...  ENTERTAINMENT"
      ]
     },
     "execution_count": 2,
     "metadata": {},
     "output_type": "execute_result"
    }
   ],
   "source": [
    "# Load datasets\n",
    "def load_data(file_path):\n",
    "    df = pd.read_json(file_path, lines = True)\n",
    "    df['category'] = pd.Categorical(df['category'])\n",
    "    df = df[df[\"short_description\"] != \"\"]\n",
    "    df['headlineDesc'] = df['headline']+ ' ' + df['short_description']\n",
    "    return df[[\"headlineDesc\", \"category\"]]\n",
    "\n",
    "df = load_data('Data/News_Category_Dataset_v2.json')\n",
    "df_orig = df\n",
    "df.head()\n"
   ]
  },
  {
   "cell_type": "code",
   "execution_count": 3,
   "id": "bb8d9cf6",
   "metadata": {},
   "outputs": [
    {
     "name": "stdout",
     "output_type": "stream",
     "text": [
      "362282\n",
      "              category                                       headlineDesc\n",
      "21744   HEALTHY LIVING  Over One Third Of U.S. Adults Have Advanced Me...\n",
      "175408   ENTERTAINMENT  Paul McCartney Says Yoko Ono Wasn't Responsibl...\n",
      "4238     ENTERTAINMENT  Colin Firth’s Wife Reveals She Had An Affair W...\n",
      "49571           COMEDY  Tim Kaine Blasts Donald Trump's Immigration Po...\n",
      "4473          POLITICS  George W. Bush Reportedly Sounds Off On Trump:...\n",
      "         category                                       headlineDesc\n",
      "0  HEALTHY LIVING  Over One Third Of U.S. Adults Have Advanced Me...\n",
      "1   ENTERTAINMENT  Paul McCartney Says Yoko Ono Wasn't Responsibl...\n",
      "2   ENTERTAINMENT  Colin Firth’s Wife Reveals She Had An Affair W...\n",
      "3          COMEDY  Tim Kaine Blasts Donald Trump's Immigration Po...\n",
      "4        POLITICS  George W. Bush Reportedly Sounds Off On Trump:...\n",
      "126798\n",
      "54342\n"
     ]
    },
    {
     "name": "stderr",
     "output_type": "stream",
     "text": [
      "C:\\Users\\isaac\\AppData\\Local\\Temp/ipykernel_50756/1684133176.py:20: SettingWithCopyWarning: \n",
      "A value is trying to be set on a copy of a slice from a DataFrame.\n",
      "Try using .loc[row_indexer,col_indexer] = value instead\n",
      "\n",
      "See the caveats in the documentation: https://pandas.pydata.org/pandas-docs/stable/user_guide/indexing.html#returning-a-view-versus-a-copy\n",
      "  data['category_formatted'] ='__label__' + data['category'].astype(str)\n"
     ]
    }
   ],
   "source": [
    "# Preprocessing\n",
    "df = df_orig\n",
    "column_names = [\"category\", \"headlineDesc\"]\n",
    "df = df.reindex(columns=column_names)\n",
    "num_records = df.size\n",
    "print(num_records)\n",
    "def shuffle_data(data):\n",
    "    data = shuffle(data)\n",
    "    print(data.head())\n",
    "    data.reset_index(inplace=True, drop=True)\n",
    "    return data\n",
    "    \n",
    "def fasttext_format(df_basic, per_train=0.7):\n",
    "    def take_percent_rows(data, perc=0.7, headortail=\"head\"):\n",
    "        if(headortail==\"head\"):\n",
    "            return data.head(int(len(data)*(perc)))\n",
    "        else:\n",
    "            return data.tail(int(len(data)*(perc)))\n",
    "    def format_text(data):\n",
    "        data['category_formatted'] ='__label__' + data['category'].astype(str)\n",
    "        return data[['category_formatted', 'headlineDesc']]\n",
    "        \n",
    "    df_train = take_percent_rows(df_basic, perc=per_train, headortail=\"head\")\n",
    "    df_valid = take_percent_rows(df_basic, perc=(1-per_train), headortail=\"tail\")\n",
    "    \n",
    "    df_train = format_text(df_train)\n",
    "    df_valid = format_text(df_valid)\n",
    "    \n",
    "    return df_train, df_valid\n",
    "\n",
    "df = shuffle_data(df)\n",
    "print(df.head())\n",
    "df_train, df_valid = fasttext_format(df)\n",
    "\n",
    "print(len(df_train.index))\n",
    "print(len(df_valid.index))\n",
    "\n",
    "df_train.to_csv('Data/news_titles.train', header=None, index=None, sep='\\t')\n",
    "df_valid.to_csv('Data/news_titles.valid', header=None, index=None, sep='\\t')\n"
   ]
  },
  {
   "cell_type": "code",
   "execution_count": 5,
   "id": "6c0c0bd7",
   "metadata": {},
   "outputs": [],
   "source": [
    "# Load Processed Data\n",
    "# df_formatted = pd.read_csv('Data/fasttextformatted.txt')\n",
    "# df_formatted.head()"
   ]
  },
  {
   "cell_type": "code",
   "execution_count": 22,
   "id": "86134066",
   "metadata": {},
   "outputs": [
    {
     "name": "stdout",
     "output_type": "stream",
     "text": [
      "3.9161806106567383\n"
     ]
    }
   ],
   "source": [
    "# Training\n",
    "import time\n",
    "\n",
    "start = time.time()\n",
    "model = fasttext.train_supervised(input=\"Data/news_titles.train\")\n",
    "end = time.time()\n",
    "print(end - start)"
   ]
  },
  {
   "cell_type": "code",
   "execution_count": 7,
   "id": "e097b0b7",
   "metadata": {},
   "outputs": [
    {
     "data": {
      "text/plain": [
       "(54342, 0.7021824739612086, 0.7021824739612086)"
      ]
     },
     "execution_count": 7,
     "metadata": {},
     "output_type": "execute_result"
    }
   ],
   "source": [
    "# Testing\n",
    "model.test(\"Data/news_titles.valid\", k=1)"
   ]
  },
  {
   "cell_type": "code",
   "execution_count": 8,
   "id": "dc622a97",
   "metadata": {},
   "outputs": [
    {
     "data": {
      "text/plain": [
       "(('__label__BUSINESS',\n",
       "  '__label__POLITICS',\n",
       "  '__label__TECH',\n",
       "  '__label__WELLNESS',\n",
       "  '__label__IMPACT'),\n",
       " array([0.36344281, 0.21214932, 0.10956781, 0.09298611, 0.05803214]))"
      ]
     },
     "execution_count": 8,
     "metadata": {},
     "output_type": "execute_result"
    }
   ],
   "source": [
    "model.predict(\"Artificial Intelligence is making huge steps in improving computer decision making\", k=5)"
   ]
  },
  {
   "cell_type": "code",
   "execution_count": 15,
   "id": "5e6fe86b",
   "metadata": {},
   "outputs": [
    {
     "data": {
      "text/plain": [
       "(54342, 0.18536307092120274, 0.9268153546060137)"
      ]
     },
     "execution_count": 15,
     "metadata": {},
     "output_type": "execute_result"
    }
   ],
   "source": [
    "# Training with Other Options\n",
    "model_25_epochs = fasttext.train_supervised(input=\"Data/news_titles.train\", epoch=25, lr=1.0, wordNgrams=2)\n",
    "model_25_epochs.test(\"Data/news_titles.valid\", k=5)"
   ]
  },
  {
   "cell_type": "code",
   "execution_count": 16,
   "id": "cb20cf55",
   "metadata": {},
   "outputs": [
    {
     "data": {
      "text/plain": [
       "(54342, 0.7327849545471274, 0.7327849545471274)"
      ]
     },
     "execution_count": 16,
     "metadata": {},
     "output_type": "execute_result"
    }
   ],
   "source": [
    "model_25_epochs.test(\"Data/news_titles.valid\", k=1)"
   ]
  },
  {
   "cell_type": "code",
   "execution_count": 10,
   "id": "5dc0e734",
   "metadata": {},
   "outputs": [],
   "source": [
    "model_autotuned = fasttext.train_supervised(input='Data/news_titles.train', autotuneValidationFile='Data/news_titles.valid', autotuneDuration=600)"
   ]
  },
  {
   "cell_type": "code",
   "execution_count": 11,
   "id": "061e7d85",
   "metadata": {},
   "outputs": [
    {
     "data": {
      "text/plain": [
       "(54342, 0.7242096352729013, 0.7242096352729013)"
      ]
     },
     "execution_count": 11,
     "metadata": {},
     "output_type": "execute_result"
    }
   ],
   "source": [
    "model_autotuned.test(\"Data/news_titles.valid\")"
   ]
  },
  {
   "cell_type": "code",
   "execution_count": 12,
   "id": "679fa390",
   "metadata": {},
   "outputs": [
    {
     "data": {
      "text/plain": [
       "{'precision': 0.32460732984293195,\n",
       " 'recall': nan,\n",
       " 'f1score': 0.6492146596858639}"
      ]
     },
     "execution_count": 12,
     "metadata": {},
     "output_type": "execute_result"
    }
   ],
   "source": [
    "model_autotuned.test_label(\"Data/news_titles.valid\")['__label__EDUCATION']"
   ]
  },
  {
   "cell_type": "code",
   "execution_count": 13,
   "id": "35879ead",
   "metadata": {},
   "outputs": [
    {
     "data": {
      "text/plain": [
       "{'precision': 0.7615439746083752, 'recall': nan, 'f1score': 1.5230879492167504}"
      ]
     },
     "execution_count": 13,
     "metadata": {},
     "output_type": "execute_result"
    }
   ],
   "source": [
    "model_autotuned.test_label(\"Data/news_titles.valid\")['__label__POLITICS']"
   ]
  },
  {
   "cell_type": "code",
   "execution_count": 14,
   "id": "8d4f35d3",
   "metadata": {},
   "outputs": [
    {
     "data": {
      "text/plain": [
       "{'precision': 0.3893805309734513, 'recall': nan, 'f1score': 0.7787610619469026}"
      ]
     },
     "execution_count": 14,
     "metadata": {},
     "output_type": "execute_result"
    }
   ],
   "source": [
    "model_autotuned.test_label(\"Data/news_titles.valid\")['__label__COLLEGE']"
   ]
  },
  {
   "cell_type": "code",
   "execution_count": 4,
   "id": "62e9ed04",
   "metadata": {},
   "outputs": [],
   "source": [
    "model_autotuned2 = fasttext.train_supervised(input='Data/news_titles.train', autotuneValidationFile='Data/news_titles.valid', autotuneDuration=300, autotuneMetric=\"f1:__label__EDUCATION\")"
   ]
  },
  {
   "cell_type": "code",
   "execution_count": 5,
   "id": "e19a1701",
   "metadata": {},
   "outputs": [
    {
     "data": {
      "text/plain": [
       "(54342, 0.719995583526554, 0.719995583526554)"
      ]
     },
     "execution_count": 5,
     "metadata": {},
     "output_type": "execute_result"
    }
   ],
   "source": [
    "model_autotuned2.test(\"Data/news_titles.valid\")"
   ]
  },
  {
   "cell_type": "code",
   "execution_count": 7,
   "id": "e649b3ee",
   "metadata": {},
   "outputs": [
    {
     "data": {
      "text/plain": [
       "{'precision': 0.366120218579235, 'recall': nan, 'f1score': 0.73224043715847}"
      ]
     },
     "execution_count": 7,
     "metadata": {},
     "output_type": "execute_result"
    }
   ],
   "source": [
    "model_autotuned2.test_label(\"Data/news_titles.valid\")['__label__EDUCATION']"
   ]
  },
  {
   "cell_type": "code",
   "execution_count": 8,
   "id": "145bde5a",
   "metadata": {},
   "outputs": [
    {
     "data": {
      "text/plain": [
       "{'precision': 0.7612295590974953, 'recall': nan, 'f1score': 1.5224591181949907}"
      ]
     },
     "execution_count": 8,
     "metadata": {},
     "output_type": "execute_result"
    }
   ],
   "source": [
    "model_autotuned2.test_label(\"Data/news_titles.valid\")['__label__POLITICS']"
   ]
  },
  {
   "cell_type": "code",
   "execution_count": 9,
   "id": "39ee7c36",
   "metadata": {},
   "outputs": [
    {
     "data": {
      "text/plain": [
       "{'precision': 0.3723849372384937, 'recall': nan, 'f1score': 0.7447698744769874}"
      ]
     },
     "execution_count": 9,
     "metadata": {},
     "output_type": "execute_result"
    }
   ],
   "source": [
    "model_autotuned2.test_label(\"Data/news_titles.valid\")['__label__COLLEGE']"
   ]
  },
  {
   "cell_type": "code",
   "execution_count": 19,
   "id": "e518226c",
   "metadata": {},
   "outputs": [
    {
     "data": {
      "text/plain": [
       "{'precision': 0.45255474452554745,\n",
       " 'recall': nan,\n",
       " 'f1score': 0.9051094890510949}"
      ]
     },
     "execution_count": 19,
     "metadata": {},
     "output_type": "execute_result"
    }
   ],
   "source": [
    "model_25_epochs.test_label(\"Data/news_titles.valid\")['__label__EDUCATION']"
   ]
  },
  {
   "cell_type": "code",
   "execution_count": 20,
   "id": "6c077e51",
   "metadata": {},
   "outputs": [
    {
     "data": {
      "text/plain": [
       "{'precision': 0.7536645351697, 'recall': nan, 'f1score': 1.5073290703394}"
      ]
     },
     "execution_count": 20,
     "metadata": {},
     "output_type": "execute_result"
    }
   ],
   "source": [
    "model_25_epochs.test_label(\"Data/news_titles.valid\")['__label__POLITICS']"
   ]
  },
  {
   "cell_type": "code",
   "execution_count": 23,
   "id": "839f8e2f",
   "metadata": {},
   "outputs": [
    {
     "data": {
      "text/plain": [
       "{'precision': 0.16666666666666666,\n",
       " 'recall': nan,\n",
       " 'f1score': 0.3333333333333333}"
      ]
     },
     "execution_count": 23,
     "metadata": {},
     "output_type": "execute_result"
    }
   ],
   "source": [
    "model.test_label(\"Data/news_titles.valid\")['__label__EDUCATION']"
   ]
  },
  {
   "cell_type": "code",
   "execution_count": 24,
   "id": "6abed335",
   "metadata": {},
   "outputs": [
    {
     "data": {
      "text/plain": [
       "{'precision': 0.7306756503836795, 'recall': nan, 'f1score': 1.461351300767359}"
      ]
     },
     "execution_count": 24,
     "metadata": {},
     "output_type": "execute_result"
    }
   ],
   "source": [
    "model.test_label(\"Data/news_titles.valid\")['__label__POLITICS']"
   ]
  },
  {
   "cell_type": "code",
   "execution_count": null,
   "id": "7d1f45f3",
   "metadata": {},
   "outputs": [],
   "source": []
  }
 ],
 "metadata": {
  "kernelspec": {
   "display_name": "Python 3 (ipykernel)",
   "language": "python",
   "name": "python3"
  },
  "language_info": {
   "codemirror_mode": {
    "name": "ipython",
    "version": 3
   },
   "file_extension": ".py",
   "mimetype": "text/x-python",
   "name": "python",
   "nbconvert_exporter": "python",
   "pygments_lexer": "ipython3",
   "version": "3.9.7"
  }
 },
 "nbformat": 4,
 "nbformat_minor": 5
}
