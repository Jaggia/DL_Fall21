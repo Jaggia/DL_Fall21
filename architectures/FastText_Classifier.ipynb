{
 "cells": [
  {
   "cell_type": "code",
   "execution_count": 11,
   "id": "39f25975",
   "metadata": {},
   "outputs": [],
   "source": [
    "# install needed packages\n",
    "import fasttext\n",
    "import pandas as pd\n",
    "import numpy as np\n",
    "from sklearn.utils import shuffle\n"
   ]
  },
  {
   "cell_type": "code",
   "execution_count": 28,
   "id": "44d33e9a",
   "metadata": {},
   "outputs": [
    {
     "data": {
      "text/html": [
       "<div>\n",
       "<style scoped>\n",
       "    .dataframe tbody tr th:only-of-type {\n",
       "        vertical-align: middle;\n",
       "    }\n",
       "\n",
       "    .dataframe tbody tr th {\n",
       "        vertical-align: top;\n",
       "    }\n",
       "\n",
       "    .dataframe thead th {\n",
       "        text-align: right;\n",
       "    }\n",
       "</style>\n",
       "<table border=\"1\" class=\"dataframe\">\n",
       "  <thead>\n",
       "    <tr style=\"text-align: right;\">\n",
       "      <th></th>\n",
       "      <th>headlineDesc</th>\n",
       "      <th>category</th>\n",
       "    </tr>\n",
       "  </thead>\n",
       "  <tbody>\n",
       "    <tr>\n",
       "      <th>0</th>\n",
       "      <td>There Were 2 Mass Shootings In Texas Last Week...</td>\n",
       "      <td>CRIME</td>\n",
       "    </tr>\n",
       "    <tr>\n",
       "      <th>1</th>\n",
       "      <td>Will Smith Joins Diplo And Nicky Jam For The 2...</td>\n",
       "      <td>ENTERTAINMENT</td>\n",
       "    </tr>\n",
       "    <tr>\n",
       "      <th>2</th>\n",
       "      <td>Hugh Grant Marries For The First Time At Age 5...</td>\n",
       "      <td>ENTERTAINMENT</td>\n",
       "    </tr>\n",
       "    <tr>\n",
       "      <th>3</th>\n",
       "      <td>Jim Carrey Blasts 'Castrato' Adam Schiff And D...</td>\n",
       "      <td>ENTERTAINMENT</td>\n",
       "    </tr>\n",
       "    <tr>\n",
       "      <th>4</th>\n",
       "      <td>Julianna Margulies Uses Donald Trump Poop Bags...</td>\n",
       "      <td>ENTERTAINMENT</td>\n",
       "    </tr>\n",
       "  </tbody>\n",
       "</table>\n",
       "</div>"
      ],
      "text/plain": [
       "                                        headlineDesc       category\n",
       "0  There Were 2 Mass Shootings In Texas Last Week...          CRIME\n",
       "1  Will Smith Joins Diplo And Nicky Jam For The 2...  ENTERTAINMENT\n",
       "2  Hugh Grant Marries For The First Time At Age 5...  ENTERTAINMENT\n",
       "3  Jim Carrey Blasts 'Castrato' Adam Schiff And D...  ENTERTAINMENT\n",
       "4  Julianna Margulies Uses Donald Trump Poop Bags...  ENTERTAINMENT"
      ]
     },
     "execution_count": 28,
     "metadata": {},
     "output_type": "execute_result"
    }
   ],
   "source": [
    "# Load datasets\n",
    "def load_data(file_path):\n",
    "    df = pd.read_json(file_path, lines = True)\n",
    "    df['category'] = pd.Categorical(df['category'])\n",
    "    df = df[df[\"short_description\"] != \"\"]\n",
    "    df['headlineDesc'] = df['headline']+ ' ' + df['short_description']\n",
    "    return df[[\"headlineDesc\", \"category\"]]\n",
    "\n",
    "df = load_data('Data/News_Category_Dataset_v2.json')\n",
    "df_orig = df\n",
    "df.head()\n"
   ]
  },
  {
   "cell_type": "code",
   "execution_count": 36,
   "id": "bb8d9cf6",
   "metadata": {},
   "outputs": [
    {
     "name": "stdout",
     "output_type": "stream",
     "text": [
      "362282\n",
      "         category                                       headlineDesc\n",
      "15197    POLITICS  The Number Of Puerto Ricans Without Water Grew...\n",
      "3483       COMEDY  Stephen Colbert Gets ‘Stupid Strong’ In Epic W...\n",
      "165915   WELLNESS  Brain Stimulation, With Meds, Could Relieve De...\n",
      "113392  WORLDPOST  Mass Urbanization Could Lead to Unprecedented ...\n",
      "161151   WELLNESS  Epilepsy: What's The Condition That Caused Lil...\n",
      "    category                                       headlineDesc\n",
      "0   POLITICS  The Number Of Puerto Ricans Without Water Grew...\n",
      "1     COMEDY  Stephen Colbert Gets ‘Stupid Strong’ In Epic W...\n",
      "2   WELLNESS  Brain Stimulation, With Meds, Could Relieve De...\n",
      "3  WORLDPOST  Mass Urbanization Could Lead to Unprecedented ...\n",
      "4   WELLNESS  Epilepsy: What's The Condition That Caused Lil...\n",
      "126798\n",
      "54342\n"
     ]
    },
    {
     "name": "stderr",
     "output_type": "stream",
     "text": [
      "C:\\Users\\isaac\\AppData\\Local\\Temp/ipykernel_21424/1684133176.py:20: SettingWithCopyWarning: \n",
      "A value is trying to be set on a copy of a slice from a DataFrame.\n",
      "Try using .loc[row_indexer,col_indexer] = value instead\n",
      "\n",
      "See the caveats in the documentation: https://pandas.pydata.org/pandas-docs/stable/user_guide/indexing.html#returning-a-view-versus-a-copy\n",
      "  data['category_formatted'] ='__label__' + data['category'].astype(str)\n"
     ]
    }
   ],
   "source": [
    "# Preprocessing\n",
    "df = df_orig\n",
    "column_names = [\"category\", \"headlineDesc\"]\n",
    "df = df.reindex(columns=column_names)\n",
    "num_records = df.size\n",
    "print(num_records)\n",
    "def shuffle_data(data):\n",
    "    data = shuffle(data)\n",
    "    print(data.head())\n",
    "    data.reset_index(inplace=True, drop=True)\n",
    "    return data\n",
    "    \n",
    "def fasttext_format(df_basic, per_train=0.7):\n",
    "    def take_percent_rows(data, perc=0.7, headortail=\"head\"):\n",
    "        if(headortail==\"head\"):\n",
    "            return data.head(int(len(data)*(perc)))\n",
    "        else:\n",
    "            return data.tail(int(len(data)*(perc)))\n",
    "    def format_text(data):\n",
    "        data['category_formatted'] ='__label__' + data['category'].astype(str)\n",
    "        return data[['category_formatted', 'headlineDesc']]\n",
    "        \n",
    "    df_train = take_percent_rows(df_basic, perc=per_train, headortail=\"head\")\n",
    "    df_valid = take_percent_rows(df_basic, perc=(1-per_train), headortail=\"tail\")\n",
    "    \n",
    "    df_train = format_text(df_train)\n",
    "    df_valid = format_text(df_valid)\n",
    "    \n",
    "    return df_train, df_valid\n",
    "\n",
    "df = shuffle_data(df)\n",
    "print(df.head())\n",
    "df_train, df_valid = fasttext_format(df)\n",
    "\n",
    "print(len(df_train.index))\n",
    "print(len(df_valid.index))\n",
    "\n",
    "df_train.to_csv('Data/news_titles.train', header=None, index=None, sep='\\t')\n",
    "df_valid.to_csv('Data/news_titles.valid', header=None, index=None, sep='\\t')\n"
   ]
  },
  {
   "cell_type": "code",
   "execution_count": 16,
   "id": "6c0c0bd7",
   "metadata": {},
   "outputs": [],
   "source": [
    "# Load Processed Data\n",
    "# df_formatted = pd.read_csv('Data/fasttextformatted.txt')\n",
    "# df_formatted.head()"
   ]
  },
  {
   "cell_type": "code",
   "execution_count": 39,
   "id": "86134066",
   "metadata": {},
   "outputs": [
    {
     "name": "stdout",
     "output_type": "stream",
     "text": [
      "4.056777715682983\n"
     ]
    }
   ],
   "source": [
    "# Training\n",
    "import time\n",
    "\n",
    "start = time.time()\n",
    "model = fasttext.train_supervised(input=\"Data/news_titles.train\")\n",
    "end = time.time()\n",
    "print(end - start)"
   ]
  },
  {
   "cell_type": "code",
   "execution_count": 57,
   "id": "e097b0b7",
   "metadata": {},
   "outputs": [
    {
     "data": {
      "text/plain": [
       "(54342, 0.7037834455853668, 0.7037834455853668)"
      ]
     },
     "execution_count": 57,
     "metadata": {},
     "output_type": "execute_result"
    }
   ],
   "source": [
    "# Testing\n",
    "model.test(\"Data/news_titles.valid\", k=1)"
   ]
  },
  {
   "cell_type": "code",
   "execution_count": 45,
   "id": "dc622a97",
   "metadata": {},
   "outputs": [
    {
     "data": {
      "text/plain": [
       "(('__label__BUSINESS',\n",
       "  '__label__POLITICS',\n",
       "  '__label__TECH',\n",
       "  '__label__IMPACT',\n",
       "  '__label__GREEN'),\n",
       " array([0.34070903, 0.23925512, 0.12437441, 0.06793961, 0.06319401]))"
      ]
     },
     "execution_count": 45,
     "metadata": {},
     "output_type": "execute_result"
    }
   ],
   "source": [
    "model.predict(\"Artificial Intelligence is making huge steps in improving computer decision making\", k=5)"
   ]
  },
  {
   "cell_type": "code",
   "execution_count": 53,
   "id": "5e6fe86b",
   "metadata": {},
   "outputs": [
    {
     "data": {
      "text/plain": [
       "(54342, 0.18538515328843252, 0.9269257664421626)"
      ]
     },
     "execution_count": 53,
     "metadata": {},
     "output_type": "execute_result"
    }
   ],
   "source": [
    "# Training with Other Options\n",
    "model_25_epochs = fasttext.train_supervised(input=\"Data/news_titles.train\", epoch=25, lr=1.0, wordNgrams=2)\n",
    "model_25_epochs.test(\"Data/news_titles.valid\", k=5)"
   ]
  },
  {
   "cell_type": "code",
   "execution_count": 55,
   "id": "cb20cf55",
   "metadata": {},
   "outputs": [
    {
     "data": {
      "text/plain": [
       "(54342, 0.7325273269294469, 0.7325273269294469)"
      ]
     },
     "execution_count": 55,
     "metadata": {},
     "output_type": "execute_result"
    }
   ],
   "source": [
    "model_25_epochs.test(\"Data/news_titles.valid\", k=1)"
   ]
  },
  {
   "cell_type": "code",
   "execution_count": null,
   "id": "5dc0e734",
   "metadata": {},
   "outputs": [],
   "source": []
  }
 ],
 "metadata": {
  "kernelspec": {
   "display_name": "Python 3 (ipykernel)",
   "language": "python",
   "name": "python3"
  },
  "language_info": {
   "codemirror_mode": {
    "name": "ipython",
    "version": 3
   },
   "file_extension": ".py",
   "mimetype": "text/x-python",
   "name": "python",
   "nbconvert_exporter": "python",
   "pygments_lexer": "ipython3",
   "version": "3.9.7"
  }
 },
 "nbformat": 4,
 "nbformat_minor": 5
}
