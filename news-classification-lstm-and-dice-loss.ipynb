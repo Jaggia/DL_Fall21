{
 "cells": [
  {
   "cell_type": "code",
   "execution_count": 151,
   "metadata": {
    "_cell_guid": "b1076dfc-b9ad-4769-8c92-a6c4dae69d19",
    "_uuid": "8f2839f25d086af736a60e9eeb907d3b93b6e0e5"
   },
   "outputs": [],
   "source": [
    "# CELL REFERENCE : https://www.kaggle.com/arutaki/news-classification-lstm-65-accuracy/notebook\n",
    "import torch\n",
    "from torchtext.legacy import data"
   ]
  },
  {
   "cell_type": "code",
   "execution_count": 152,
   "metadata": {
    "_cell_guid": "79c7e3d0-c299-4dcb-8224-4455121ee9b0",
    "_uuid": "d629ff2d2480ee46fbb7e2d37f6b5fab8052498a"
   },
   "outputs": [],
   "source": [
    "# CELL REFERENCE : https://www.kaggle.com/arutaki/news-classification-lstm-65-accuracy/notebook\n",
    "TEXT = data.Field(tokenize = 'spacy', lower = True)\n",
    "LABEL = data.LabelField()"
   ]
  },
  {
   "cell_type": "code",
   "execution_count": 153,
   "metadata": {},
   "outputs": [],
   "source": [
    "# CELL REFERENCE : https://www.kaggle.com/arutaki/news-classification-lstm-65-accuracy/notebook\n",
    "news = data.TabularDataset(\n",
    "    path='input/News_Category_Dataset_v2.json', format='json',\n",
    "    fields={'headline': ('headline', TEXT),\n",
    "            'short_description' : ('desc', TEXT),\n",
    "             'category': ('category', LABEL)})"
   ]
  },
  {
   "cell_type": "code",
   "execution_count": 154,
   "metadata": {},
   "outputs": [],
   "source": [
    "# CELL REFERENCE : https://www.kaggle.com/arutaki/news-classification-lstm-65-accuracy/notebook\n",
    "import random\n",
    "SEED = 1234\n",
    "from tqdm import tqdm_notebook, tqdm\n",
    "\n",
    "trn, vld, tst = news.split(split_ratio=[0.7, 0.2, 0.1], random_state = random.seed(SEED))"
   ]
  },
  {
   "cell_type": "code",
   "execution_count": 155,
   "metadata": {},
   "outputs": [
    {
     "data": {
      "text/plain": "{'headline': [\"'\", 'train', 'hard', ',', 'land', 'soft', \"'\"],\n 'desc': ['runners',\n  'will',\n  'appreciate',\n  'that',\n  'the',\n  'sproing',\n  'trainer',\n  'was',\n  'designed',\n  'with',\n  'them',\n  'in',\n  'mind',\n  'as',\n  'a',\n  'way',\n  'to',\n  'build',\n  'endurance',\n  'and',\n  'strength',\n  'without',\n  'the',\n  'pain',\n  'that',\n  'can',\n  'come',\n  'with',\n  'pounding',\n  'the',\n  'pavement',\n  '.'],\n 'category': 'HEALTHY LIVING'}"
     },
     "execution_count": 155,
     "metadata": {},
     "output_type": "execute_result"
    }
   ],
   "source": [
    "# CELL REFERENCE : https://www.kaggle.com/arutaki/news-classification-lstm-65-accuracy/notebook\n",
    "vars(trn[0])"
   ]
  },
  {
   "cell_type": "code",
   "execution_count": 156,
   "metadata": {},
   "outputs": [],
   "source": [
    "# CELL REFERENCE : https://www.kaggle.com/arutaki/news-classification-lstm-65-accuracy/notebook\n",
    "TEXT.build_vocab(trn, \n",
    "                 vectors = \"glove.6B.100d\", \n",
    "                 unk_init = torch.Tensor.normal_)\n",
    "\n",
    "LABEL.build_vocab(trn)"
   ]
  },
  {
   "cell_type": "code",
   "execution_count": 157,
   "metadata": {},
   "outputs": [
    {
     "name": "stdout",
     "output_type": "stream",
     "text": [
      "78590\n",
      "41\n"
     ]
    }
   ],
   "source": [
    "# CELL REFERENCE : https://www.kaggle.com/arutaki/news-classification-lstm-65-accuracy/notebook\n",
    "print(len(TEXT.vocab))\n",
    "print(len(LABEL.vocab))"
   ]
  },
  {
   "cell_type": "code",
   "execution_count": 158,
   "metadata": {},
   "outputs": [
    {
     "name": "stdout",
     "output_type": "stream",
     "text": [
      "defaultdict(None, {'POLITICS': 0, 'WELLNESS': 1, 'ENTERTAINMENT': 2, 'TRAVEL': 3, 'STYLE & BEAUTY': 4, 'PARENTING': 5, 'HEALTHY LIVING': 6, 'QUEER VOICES': 7, 'FOOD & DRINK': 8, 'BUSINESS': 9, 'COMEDY': 10, 'SPORTS': 11, 'BLACK VOICES': 12, 'HOME & LIVING': 13, 'PARENTS': 14, 'THE WORLDPOST': 15, 'WEDDINGS': 16, 'DIVORCE': 17, 'WOMEN': 18, 'IMPACT': 19, 'CRIME': 20, 'MEDIA': 21, 'WEIRD NEWS': 22, 'GREEN': 23, 'WORLDPOST': 24, 'RELIGION': 25, 'STYLE': 26, 'SCIENCE': 27, 'TASTE': 28, 'WORLD NEWS': 29, 'TECH': 30, 'MONEY': 31, 'ARTS': 32, 'FIFTY': 33, 'GOOD NEWS': 34, 'ARTS & CULTURE': 35, 'ENVIRONMENT': 36, 'COLLEGE': 37, 'LATINO VOICES': 38, 'CULTURE & ARTS': 39, 'EDUCATION': 40})\n"
     ]
    }
   ],
   "source": [
    "# CELL REFERENCE : https://www.kaggle.com/arutaki/news-classification-lstm-65-accuracy/notebook\n",
    "print(LABEL.vocab.stoi)"
   ]
  },
  {
   "cell_type": "code",
   "execution_count": 159,
   "metadata": {},
   "outputs": [],
   "source": [
    "# CELL REFERENCE : https://www.kaggle.com/arutaki/news-classification-lstm-65-accuracy/notebook\n",
    "BATCH_SIZE = 64\n",
    "\n",
    "device = torch.device('cuda' if torch.cuda.is_available() else 'cpu')\n",
    "\n",
    "train_iterator, valid_iterator, test_iterator = data.BucketIterator.splits(\n",
    "    (trn, vld, tst), \n",
    "    batch_size = BATCH_SIZE, \n",
    "    device = device,\n",
    "    sort_key= lambda x: len(x.headline), \n",
    "    sort_within_batch= False\n",
    "    )"
   ]
  },
  {
   "cell_type": "code",
   "execution_count": 160,
   "metadata": {},
   "outputs": [],
   "source": [
    "# CELL REFERENCE : https://www.kaggle.com/arutaki/news-classification-lstm-65-accuracy/notebook\n",
    "import torch.nn as nn\n",
    "\n",
    "class RNN(nn.Module):\n",
    "    def __init__(self, vocab_size, embedding_dim, hidden_dim, output_dim, n_layers, bidirectional, dropout):\n",
    "        \n",
    "        super().__init__()\n",
    "                \n",
    "        self.embedding = nn.Embedding(vocab_size, embedding_dim).to(device)\n",
    "        \n",
    "        self.lstm_head = nn.LSTM(embedding_dim, hidden_dim, num_layers = n_layers, bidirectional = bidirectional, dropout = dropout).to(device)\n",
    "        \n",
    "        self.lstm_desc = nn.LSTM(embedding_dim, hidden_dim, num_layers = n_layers, bidirectional = bidirectional, dropout = dropout).to(device)\n",
    "        \n",
    "        self.fc_head = nn.Linear(hidden_dim * 2, 100).to(device)\n",
    "        \n",
    "        self.fc_desc = nn.Linear(hidden_dim * 2, 100).to(device)\n",
    "\n",
    "        self.fc_total = nn.Linear(200, output_dim).to(device)\n",
    "        \n",
    "        self.dropout = nn.Dropout(dropout).to(device)\n",
    "                \n",
    "    def forward(self, headline, description):\n",
    "                        \n",
    "        embedded_head = self.dropout(self.embedding(headline))\n",
    "        \n",
    "        embedded_desc = self.dropout(self.embedding(description))\n",
    "                                    \n",
    "        output_head, (hidden_head, cell_head) = self.lstm_head(embedded_head)\n",
    "        \n",
    "        output_desc, (hidden_desc, cell_desc) = self.lstm_desc(embedded_desc)\n",
    "        \n",
    "        hidden_head = self.dropout(torch.cat((hidden_head[-2, :, :], hidden_head[-1, :, :]), dim = 1))\n",
    "        \n",
    "        hidden_desc = self.dropout(torch.cat((hidden_desc[-2, :, :], hidden_desc[-1, :, :]), dim = 1))\n",
    "        \n",
    "        full_head = self.fc_head(hidden_head)\n",
    "        \n",
    "        full_desc = self.fc_desc(hidden_desc)\n",
    "        \n",
    "        hidden_total = torch.cat((full_head, full_desc), 1)\n",
    "        \n",
    "        return self.fc_total(hidden_total)"
   ]
  },
  {
   "cell_type": "code",
   "execution_count": 161,
   "metadata": {},
   "outputs": [],
   "source": [
    "# CELL REFERENCE : https://www.kaggle.com/arutaki/news-classification-lstm-65-accuracy/notebook\n",
    "INPUT_DIM = len(TEXT.vocab)\n",
    "EMBEDDING_DIM = 100\n",
    "HIDDEN_DIM = 256\n",
    "OUTPUT_DIM = len(LABEL.vocab)\n",
    "N_LAYERS = 2\n",
    "BIDIRECTIONAL = True\n",
    "DROPOUT = 0.2\n",
    "\n",
    "model = RNN(INPUT_DIM, EMBEDDING_DIM, HIDDEN_DIM, OUTPUT_DIM, N_LAYERS, BIDIRECTIONAL, DROPOUT)"
   ]
  },
  {
   "cell_type": "code",
   "execution_count": 162,
   "metadata": {},
   "outputs": [
    {
     "name": "stdout",
     "output_type": "stream",
     "text": [
      "The model has 12,590,129 trainable parameters\n"
     ]
    }
   ],
   "source": [
    "# CELL REFERENCE : https://www.kaggle.com/arutaki/news-classification-lstm-65-accuracy/notebook\n",
    "def count_parameters(model):\n",
    "    return sum(p.numel() for p in model.parameters() if p.requires_grad)\n",
    "\n",
    "print(f'The model has {count_parameters(model):,} trainable parameters')"
   ]
  },
  {
   "cell_type": "code",
   "execution_count": 163,
   "metadata": {},
   "outputs": [
    {
     "name": "stdout",
     "output_type": "stream",
     "text": [
      "torch.Size([78590, 100])\n"
     ]
    }
   ],
   "source": [
    "# CELL REFERENCE : https://www.kaggle.com/arutaki/news-classification-lstm-65-accuracy/notebook\n",
    "pretrained_embeddings = TEXT.vocab.vectors\n",
    "\n",
    "print(pretrained_embeddings.shape)"
   ]
  },
  {
   "cell_type": "code",
   "execution_count": 164,
   "metadata": {},
   "outputs": [
    {
     "data": {
      "text/plain": "tensor([[-1.4325, -0.7256, -0.5609,  ..., -1.8231, -0.2067,  2.2591],\n        [ 0.0242, -0.1569,  1.5941,  ..., -1.4161,  0.5383,  0.6884],\n        [-0.0382, -0.2449,  0.7281,  ..., -0.1459,  0.8278,  0.2706],\n        ...,\n        [ 1.0009,  1.4122,  0.7563,  ..., -0.8351,  1.8152,  1.1972],\n        [-0.2007,  1.4957,  0.2313,  ...,  0.0785, -0.7260, -0.3153],\n        [ 0.1522,  0.6214, -0.2887,  ..., -1.5512,  0.5044, -0.3377]],\n       device='cuda:0')"
     },
     "execution_count": 164,
     "metadata": {},
     "output_type": "execute_result"
    }
   ],
   "source": [
    "# CELL REFERENCE : https://www.kaggle.com/arutaki/news-classification-lstm-65-accuracy/notebook\n",
    "model.embedding.weight.data.copy_(pretrained_embeddings)"
   ]
  },
  {
   "cell_type": "code",
   "execution_count": 165,
   "metadata": {},
   "outputs": [],
   "source": [
    "# DICELOSS IMPLEMENTATION https://kornia.readthedocs.io/en/v0.1.2/_modules/torchgeometry/losses/dice.html\n",
    "# ADAPTED FROM https://www.kaggle.com/arutaki/news-classification-lstm-65-accuracy/notebook\n",
    "from losses.DiceLoss import DiceLoss\n",
    "criterion = DiceLoss()\n",
    "model = model.to(device)\n",
    "criterion = criterion.to(device)"
   ]
  },
  {
   "cell_type": "code",
   "execution_count": 166,
   "metadata": {},
   "outputs": [],
   "source": [
    "# CELL REFERENCE : https://www.kaggle.com/arutaki/news-classification-lstm-65-accuracy/notebook\n",
    "def categorical_accuracy(preds, y):\n",
    "    max_preds = preds.argmax(dim = 1, keepdim = True).to(device)\n",
    "    correct = max_preds.squeeze(1).eq(y).to(device)\n",
    "    return correct.sum() / torch.FloatTensor([y.shape[0]]).to(device)"
   ]
  },
  {
   "cell_type": "code",
   "execution_count": 167,
   "metadata": {},
   "outputs": [],
   "source": [
    "# CELL REFERENCE :\n",
    "# https://www.kaggle.com/arutaki/news-classification-lstm-65-accuracy/notebook\n",
    "# https://torchmetrics.readthedocs.io/en/stable/references/functional.html#accuracy-func\n",
    "from torchmetrics.functional import accuracy, f1, precision\n",
    "def train(model, iterator, optimizer, criterion):\n",
    "    \n",
    "    epoch_loss = 0\n",
    "    epoch_acc = 0\n",
    "    \n",
    "    model.train()\n",
    "\n",
    "    # Get the progress bar for later modification\n",
    "    # progress_bar = tqdm_notebook(iterator, ascii=True)\n",
    "    for idx, batch in enumerate(iterator):\n",
    "        \n",
    "        optimizer.zero_grad()\n",
    "                        \n",
    "        predictions = model(batch.headline, batch.desc)\n",
    "#         print(predictions.shape)\n",
    "        predictions = predictions.squeeze(1)\n",
    "#         print(batch.category)\n",
    "        \n",
    "        loss = criterion(predictions, batch.category)\n",
    "        \n",
    "        acc = categorical_accuracy(predictions, batch.category)\n",
    "        my_acc = accuracy(predictions, batch.category)\n",
    "        my_f1 = f1(predictions, batch.category, num_classes=41)\n",
    "        my_prec = precision(predictions, batch.category, average='micro')\n",
    "        loss.backward()\n",
    "        \n",
    "        optimizer.step()\n",
    "        \n",
    "        epoch_loss += loss.item()\n",
    "        epoch_acc += acc.item()\n",
    "\n",
    "        # progress_bar.set_description_str(\n",
    "        #     \"Batch: %d, Loss: %.4f\" % (int(idx + 1), loss.item()))\n",
    "        \n",
    "    return epoch_loss / len(iterator), my_acc, my_f1, my_prec"
   ]
  },
  {
   "cell_type": "code",
   "execution_count": 168,
   "metadata": {},
   "outputs": [],
   "source": [
    "# CELL REFERENCE :\n",
    "# https://www.kaggle.com/arutaki/news-classification-lstm-65-accuracy/notebook\n",
    "# https://torchmetrics.readthedocs.io/en/stable/references/functional.html#accuracy-func\n",
    "def evaluate(model, iterator, criterion):\n",
    "    \n",
    "    epoch_loss = 0\n",
    "    epoch_acc = 0\n",
    "    \n",
    "    model.eval()\n",
    "    \n",
    "    with torch.no_grad():\n",
    "    \n",
    "        for batch in iterator:\n",
    "            \n",
    "            predictions = model(batch.headline, batch.desc).squeeze(1)\n",
    "            \n",
    "            loss = criterion(predictions, batch.category)\n",
    "            \n",
    "            acc = categorical_accuracy(predictions, batch.category)\n",
    "            my_acc = accuracy(predictions, batch.category)\n",
    "            my_f1 = f1(predictions, batch.category, num_classes=41)\n",
    "            my_prec = precision(predictions, batch.category, average='micro')\n",
    "            epoch_loss += loss.item()\n",
    "            epoch_acc += acc.item()\n",
    "        \n",
    "    return epoch_loss / len(iterator), my_acc, my_f1, my_prec\n"
   ]
  },
  {
   "cell_type": "code",
   "execution_count": 169,
   "metadata": {},
   "outputs": [],
   "source": [
    "# CELL REFERENCE : https://www.kaggle.com/arutaki/news-classification-lstm-65-accuracy/notebook\n",
    "import time\n",
    "\n",
    "def epoch_time(start_time, end_time):\n",
    "    elapsed_time = end_time - start_time\n",
    "    elapsed_mins = int(elapsed_time / 60)\n",
    "    elapsed_secs = int(elapsed_time - (elapsed_mins * 60))\n",
    "    return elapsed_mins, elapsed_secs"
   ]
  },
  {
   "cell_type": "code",
   "source": [
    "# CELL REFERENCE :\n",
    "# https://pytorch.org/docs/stable/generated/torch.optim.Adam.html#torch.optim.Adam\n",
    "# https://pytorch.org/docs/stable/generated/torch.optim.lr_scheduler.CosineAnnealingLR.html#torch.optim.lr_scheduler.CosineAnnealingLR\n",
    "import torch.optim as optim\n",
    "lr = 0.0003\n",
    "betas = [0.9, 0.99999]\n",
    "weight_decay = 0.0000\n",
    "# lr = 0.001\n",
    "# momentum = 0.9\n",
    "optimizer = optim.Adam(model.parameters(), lr=lr, betas=betas, weight_decay=weight_decay)  #, betas=betas)\n",
    "# optimizer = torch.optim.SGD(model.parameters(), lr,\n",
    "#                             momentum=momentum,\n",
    "#                             weight_decay=weight_decay)\n",
    "# scheduler = torch.optim.lr_scheduler.ReduceLROnPlateau(optimizer,\n",
    "#                                                        patience=0, threshold=.5,\n",
    "#                                                        cooldown=0, factor=0.1)\n",
    "scheduler = torch.optim.lr_scheduler.CosineAnnealingLR(optimizer, T_max=2, last_epoch=-1)\n",
    "# lr_idx = [0.0005, 0.0005, 0.0001, 0.0001]"
   ],
   "metadata": {
    "collapsed": false,
    "pycharm": {
     "name": "#%%\n"
    }
   },
   "execution_count": 170,
   "outputs": []
  },
  {
   "cell_type": "code",
   "execution_count": 1,
   "metadata": {},
   "outputs": [
    {
     "ename": "NameError",
     "evalue": "name 'time' is not defined",
     "output_type": "error",
     "traceback": [
      "\u001B[1;31m---------------------------------------------------------------------------\u001B[0m",
      "\u001B[1;31mNameError\u001B[0m                                 Traceback (most recent call last)",
      "\u001B[1;32m<ipython-input-1-b167a5cb6fb5>\u001B[0m in \u001B[0;36m<module>\u001B[1;34m\u001B[0m\n\u001B[0;32m     13\u001B[0m \u001B[1;32mfor\u001B[0m \u001B[0mepoch\u001B[0m \u001B[1;32min\u001B[0m \u001B[0mrange\u001B[0m\u001B[1;33m(\u001B[0m\u001B[0mN_EPOCHS\u001B[0m\u001B[1;33m)\u001B[0m\u001B[1;33m:\u001B[0m\u001B[1;33m\u001B[0m\u001B[1;33m\u001B[0m\u001B[0m\n\u001B[0;32m     14\u001B[0m \u001B[1;33m\u001B[0m\u001B[0m\n\u001B[1;32m---> 15\u001B[1;33m     \u001B[0mstart_time\u001B[0m \u001B[1;33m=\u001B[0m \u001B[0mtime\u001B[0m\u001B[1;33m.\u001B[0m\u001B[0mtime\u001B[0m\u001B[1;33m(\u001B[0m\u001B[1;33m)\u001B[0m\u001B[1;33m\u001B[0m\u001B[1;33m\u001B[0m\u001B[0m\n\u001B[0m\u001B[0;32m     16\u001B[0m \u001B[1;33m\u001B[0m\u001B[0m\n\u001B[0;32m     17\u001B[0m     \u001B[0mtrain_loss\u001B[0m\u001B[1;33m,\u001B[0m \u001B[0mtrain_acc\u001B[0m\u001B[1;33m,\u001B[0m \u001B[0mtrain_f1\u001B[0m\u001B[1;33m,\u001B[0m \u001B[0mtrain_prec\u001B[0m \u001B[1;33m=\u001B[0m \u001B[0mtrain\u001B[0m\u001B[1;33m(\u001B[0m\u001B[0mmodel\u001B[0m\u001B[1;33m,\u001B[0m \u001B[0mtrain_iterator\u001B[0m\u001B[1;33m,\u001B[0m \u001B[0moptimizer\u001B[0m\u001B[1;33m,\u001B[0m \u001B[0mcriterion\u001B[0m\u001B[1;33m)\u001B[0m\u001B[1;33m\u001B[0m\u001B[1;33m\u001B[0m\u001B[0m\n",
      "\u001B[1;31mNameError\u001B[0m: name 'time' is not defined"
     ]
    }
   ],
   "source": [
    "# CELL REFERENCE :\n",
    "# https://www.kaggle.com/arutaki/news-classification-lstm-65-accuracy/notebook\n",
    "# Plus some self made code for graphing functionality\n",
    "\n",
    "N_EPOCHS = 15\n",
    "best_valid_loss = float('inf')\n",
    "trainLoss= []\n",
    "trainAcc = []\n",
    "valLoss= []\n",
    "valAcc = []\n",
    "trainF1 = []\n",
    "valF1 = []\n",
    "trainPrec = []\n",
    "valPrec = []\n",
    "\n",
    "for epoch in range(N_EPOCHS):\n",
    "\n",
    "    start_time = time.time()\n",
    "    \n",
    "    train_loss, train_acc, train_f1, train_prec = train(model, train_iterator, optimizer, criterion)\n",
    "    trainLoss.append(train_loss)\n",
    "    trainAcc.append(train_acc)\n",
    "    trainF1.append(train_f1)\n",
    "    trainPrec.append(train_prec)\n",
    "    scheduler.step(train_loss)\n",
    "    valid_loss, valid_acc, valid_f1, valid_prec = evaluate(model, valid_iterator, criterion)\n",
    "    valLoss.append(valid_loss)\n",
    "    valAcc.append(valid_acc)\n",
    "    valF1.append(valid_f1)\n",
    "    valPrec.append(valid_prec)\n",
    "    end_time = time.time()\n",
    "\n",
    "    epoch_mins, epoch_secs = epoch_time(start_time, end_time)\n",
    "\n",
    "    print(f'Epoch: {epoch+1:02} | Epoch Time: {epoch_mins}m {epoch_secs}s')\n",
    "    print(f'\\t Train Loss: {train_loss:.3f} | Train Acc: {train_acc*100:.2f}%')\n",
    "    print(f'\\t Train F1: {train_f1*100:.2f} | Train Precision: {train_prec*100:.2f}%')\n",
    "    print(f'\\t Val. Loss: {valid_loss:.3f}  |  Val. Acc: {valid_acc*100:.2f}%')\n",
    "    print(f'\\t Valid F1: {valid_f1*100:.2f} | Val Precision: {valid_prec*100:.2f}%')\n",
    "    llrr = optimizer.param_groups[0]['lr']\n",
    "    print(f'\\t LR: {llrr:.10f}')\n",
    "    # optimizer.param_groups[0]['lr'] = lr_idx[epoch]"
   ]
  },
  {
   "cell_type": "code",
   "execution_count": 172,
   "metadata": {
    "pycharm": {
     "name": "#%%\n"
    }
   },
   "outputs": [
    {
     "data": {
      "text/plain": "<matplotlib.legend.Legend at 0x1b94ccca848>"
     },
     "execution_count": 172,
     "metadata": {},
     "output_type": "execute_result"
    },
    {
     "data": {
      "text/plain": "<Figure size 900x756 with 4 Axes>",
      "image/png": "[encoded data removed]"
     },
     "metadata": {
      "needs_background": "light"
     },
     "output_type": "display_data"
    }
   ],
   "source": [
    "# CELL REFERENCE : SELF MADE CODE\n",
    "import matplotlib\n",
    "matplotlib.use('TkAgg')\n",
    "%matplotlib inline\n",
    "import matplotlib.pyplot as plt\n",
    "from matplotlib.pyplot import figure\n",
    "figure, axis = plt.subplots(2, 2)\n",
    "figure.set_size_inches(12.5, 10.5, forward=True)\n",
    "axis[0, 0].plot(valAcc, label='validation accuracy')\n",
    "axis[0, 0].plot(trainAcc, label='training accuracy')\n",
    "axis[0, 0].set_xlabel('Epoch #')\n",
    "axis[0, 0].set_ylabel('Accuracy Per Epoch')\n",
    "axis[0, 0].set_title('Accuracy Curve')\n",
    "axis[0, 0].legend()\n",
    "axis[0, 1].plot(valLoss, label='validation loss')\n",
    "axis[0, 1].plot(trainLoss, label='training loss')\n",
    "axis[0, 1].set_xlabel('Epoch #')\n",
    "axis[0, 1].set_ylabel('Loss Per Epoch')\n",
    "axis[0, 1].set_title('Loss Curve')\n",
    "axis[0, 1].legend()\n",
    "axis[1, 0].plot(valPrec, label='validation precision')\n",
    "axis[1, 0].plot(trainPrec, label='training precision')\n",
    "axis[1, 0].set_xlabel('Epoch #')\n",
    "axis[1, 0].set_ylabel('Precision Per Epoch')\n",
    "axis[1, 0].set_title('Precision Curve')\n",
    "axis[1, 0].legend()\n",
    "axis[1, 1].plot(valF1, label='validation F1')\n",
    "axis[1, 1].plot(trainF1, label='training F1')\n",
    "axis[1, 1].set_xlabel('Epoch #')\n",
    "axis[1, 1].set_ylabel('F1 Per Epoch')\n",
    "axis[1, 1].set_title('F1 Curve')\n",
    "axis[1, 1].legend()"
   ]
  },
  {
   "cell_type": "code",
   "execution_count": 173,
   "outputs": [
    {
     "name": "stdout",
     "output_type": "stream",
     "text": [
      "Test Loss: 0.687 | Test Acc: 51.16| Test F1: 51.16 | Test Prec: 51.16%\n"
     ]
    }
   ],
   "source": [
    "# CELL REFERENCE :\n",
    "# https://www.kaggle.com/arutaki/news-classification-lstm-65-accuracy/notebook\n",
    "test_loss, test_acc, my_test_f1, my_test_prec = evaluate(model, test_iterator, criterion)\n",
    "\n",
    "print(f'Test Loss: {test_loss:.3f} '\n",
    "      f'| Test Acc: {test_acc*100:.2f}'\n",
    "      f'| Test F1: {my_test_f1*100:.2f} | Test Prec: {my_test_prec*100:.2f}%')"
   ],
   "metadata": {
    "collapsed": false,
    "pycharm": {
     "name": "#%%\n"
    }
   }
  },
  {
   "cell_type": "code",
   "execution_count": 174,
   "metadata": {},
   "outputs": [],
   "source": [
    "# CELL REFERENCE :\n",
    "# https://www.kaggle.com/arutaki/news-classification-lstm-65-accuracy/notebook\n",
    "import spacy\n",
    "nlp = spacy.load('en')\n",
    "\n",
    "def predict_category(model, head, desc):\n",
    "    model.eval()\n",
    "    head = head.lower()\n",
    "    desc = desc.lower()\n",
    "    tokenized_head = [tok.text for tok in nlp.tokenizer(head)]\n",
    "    tokenized_desc = [tok.text for tok in nlp.tokenizer(desc)]\n",
    "    indexed_head = [TEXT.vocab.stoi[t] for t in tokenized_head]\n",
    "    indexed_desc = [TEXT.vocab.stoi[t] for t in tokenized_desc]\n",
    "    tensor_head = torch.LongTensor(indexed_head).to(device)\n",
    "    tensor_desc = torch.LongTensor(indexed_desc).to(device)\n",
    "    tensor_head = tensor_head.unsqueeze(1)\n",
    "    tensor_desc = tensor_desc.unsqueeze(1)\n",
    "    prediction = model(tensor_head, tensor_desc)\n",
    "    max_pred = prediction.argmax(dim=1)\n",
    "    return max_pred.item()"
   ]
  },
  {
   "cell_type": "markdown",
   "metadata": {},
   "source": [
    "# CELL REFERENCE :\n",
    "# https://www.kaggle.com/arutaki/news-classification-lstm-65-accuracy/notebook\n",
    "News headline: Trump’s Art Of Distraction\n",
    "\n",
    "News short description: The conversation surrounding Trump’s latest racist rants has provoked us to revisit author Toni Morrison’s 1975 keynote address at Portland State University on the true purpose of racism.\n",
    "\n",
    "Correct category: Politics"
   ]
  },
  {
   "cell_type": "code",
   "execution_count": 175,
   "metadata": {},
   "outputs": [
    {
     "name": "stdout",
     "output_type": "stream",
     "text": [
      "Predicted category is: 0 = POLITICS\n"
     ]
    }
   ],
   "source": [
    "# CELL REFERENCE :\n",
    "# https://www.kaggle.com/arutaki/news-classification-lstm-65-accuracy/notebook\n",
    "pred = predict_category(model, \"Trump’s Art Of Distraction\", \"The conversation surrounding Trump’s latest racist rants has provoked us to revisit author Toni Morrison’s 1975 keynote address at Portland State University on the true purpose of racism..\")\n",
    "print(f'Predicted category is: {pred} = {LABEL.vocab.itos[pred]}')"
   ]
  },
  {
   "cell_type": "markdown",
   "metadata": {},
   "source": [
    "# CELL REFERENCE :\n",
    "# https://www.kaggle.com/arutaki/news-classification-lstm-65-accuracy/notebook\n",
    "News headline: Indiana Cop Apologizes After Accusing McDonald’s Worker Of Eating His Sandwich\n",
    "\n",
    "News short description: The Marion County sheriff’s deputy forgot he had taken a bite out of his McChicken earlier that day, authorities said.\n",
    "\n",
    "Correct category: U.S. News"
   ]
  },
  {
   "cell_type": "code",
   "execution_count": 176,
   "metadata": {},
   "outputs": [
    {
     "name": "stdout",
     "output_type": "stream",
     "text": [
      "Predicted category is: 20 = CRIME\n"
     ]
    }
   ],
   "source": [
    "# CELL REFERENCE :\n",
    "# https://www.kaggle.com/arutaki/news-classification-lstm-65-accuracy/notebook\n",
    "pred = predict_category(model, \"Indiana Cop Apologizes After Accusing McDonald’s Worker Of Eating His Sandwich\", \"The Marion County sheriff’s deputy forgot he had taken a bite out of his McChicken earlier that day, authorities said.\")\n",
    "print(f'Predicted category is: {pred} = {LABEL.vocab.itos[pred]}')"
   ]
  },
  {
   "cell_type": "markdown",
   "metadata": {},
   "source": [
    "# CELL REFERENCE :\n",
    "# https://www.kaggle.com/arutaki/news-classification-lstm-65-accuracy/notebook\n",
    "News headline: Kyle ‘Bugha’ Giersdorf, 16, Wins Fortnite World Cup And Takes Home $ 3 Million Prize\n",
    "\n",
    "News short description: Fortnite has nearly 250 million registered players and raked in an estimated $2.4 billion last year.\n",
    "\n",
    "Correct category: Sports"
   ]
  },
  {
   "cell_type": "code",
   "execution_count": 177,
   "metadata": {},
   "outputs": [
    {
     "name": "stdout",
     "output_type": "stream",
     "text": [
      "Predicted category is: 31 = MONEY\n"
     ]
    }
   ],
   "source": [
    "# CELL REFERENCE :\n",
    "# https://www.kaggle.com/arutaki/news-classification-lstm-65-accuracy/notebook\n",
    "pred = predict_category(model, \"Kyle ‘Bugha’ Giersdorf, 16, Wins Fortnite World Cup And Takes Home $ 3 Million Prize\", \"Fortnite has nearly 250 million registered players and raked in an estimated $2.4 billion last year.\")\n",
    "print(f'Predicted category is: {pred} = {LABEL.vocab.itos[pred]}')"
   ]
  },
  {
   "cell_type": "markdown",
   "metadata": {},
   "source": [
    "# CELL REFERENCE :\n",
    "# https://www.kaggle.com/arutaki/news-classification-lstm-65-accuracy/notebook\n",
    "**References**\n",
    "\n",
    "This notebook was created thanks to the two references below.\n",
    "* http://mlexplained.com/2018/02/08/a-comprehensive-tutorial-to-torchtext/\n",
    "* https://github.com/bentrevett/pytorch-sentiment-analysis/blob/master/2%20-%20Upgraded%20Sentiment%20Analysis.ipynb"
   ]
  },
  {
   "cell_type": "code",
   "execution_count": 177,
   "metadata": {},
   "outputs": [],
   "source": []
  }
 ],
 "metadata": {
  "kernelspec": {
   "display_name": "Python 3 (ipykernel)",
   "language": "python",
   "name": "python3"
  },
  "language_info": {
   "codemirror_mode": {
    "name": "ipython",
    "version": 3
   },
   "file_extension": ".py",
   "mimetype": "text/x-python",
   "name": "python",
   "nbconvert_exporter": "python",
   "pygments_lexer": "ipython3",
   "version": "3.7.11"
  }
 },
 "nbformat": 4,
 "nbformat_minor": 1
}