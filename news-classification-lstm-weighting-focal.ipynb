{
  "cells": [
    {
      "cell_type": "markdown",
      "metadata": {
        "id": "XPjmkQ-gPkmW"
      },
      "source": [
        "**News Classification by LSTM**\n",
        "\n",
        "In this notebook, we will try to classify news merely from the language associated with it. We just use its headline and short description to classify the news's category. One thing we intentionally avoid is the author's name due to tendency of certain author to write articles on particular topics.\n",
        "\n",
        "In general this notebook is comprised of some sections which are:\n",
        "1. Preparing data\n",
        "2. Building the model\n",
        "3. Training the model\n",
        "4. User input\n",
        "\n",
        "We use some components here to name a few:\n",
        "* Torchtext library\n",
        "* Pre-trained word embedding\n",
        "* LSTM network architecture\n",
        "* Bidirectional LSTM\n",
        "* Multi-layered LSTM\n",
        "* Regularization\n",
        "* Adam optimizer\n",
        "* Cross-entropy loss function for classification problem"
      ]
    },
    {
      "cell_type": "markdown",
      "metadata": {
        "id": "KpgYasllPkmq"
      },
      "source": [
        "**Preparing Data**\n",
        "\n",
        "We use Torchtext library to pre-process our data. Torchtext simplifies text data pre-processing that includes reading data, tokenizing, converting into tensors, and building vocabulary to be easier."
      ]
    },
    {
      "cell_type": "code",
      "execution_count": 1,
      "metadata": {
        "colab": {
          "base_uri": "https://localhost:8080/"
        },
        "id": "xVvRAGswJsOP",
        "outputId": "4d0c4863-496b-4afe-cde8-9e38edbd7cee"
      },
      "outputs": [
        {
          "name": "stdout",
          "output_type": "stream",
          "text": [
            "Drive already mounted at /content/drive; to attempt to forcibly remount, call drive.mount(\"/content/drive\", force_remount=True).\n",
            "/content/drive/MyDrive/7643/final\n"
          ]
        }
      ],
      "source": [
        "from google.colab import drive\n",
        "\n",
        "drive.mount(\"/content/drive\")\n",
        "\n",
        "%cd '/content/drive/MyDrive/7643/final/'"
      ]
    },
    {
      "cell_type": "code",
      "execution_count": 2,
      "metadata": {
        "id": "oR55oYxePkmt"
      },
      "outputs": [],
      "source": [
        "import torch\n",
        "from torchtext.legacy import data"
      ]
    },
    {
      "cell_type": "markdown",
      "metadata": {
        "id": "BlqvBhSWPkm0"
      },
      "source": [
        "So first we specify what our data comprises of. We decide that our data comprises of TEXT which are the news' headlines and short descriptions, as well as LABEL which is the news' category. Here we tokenize the text using [spacy](https://spacy.io/?source=post_page---------------------------) tokenizer and to make all the words use lower case. While we keep the entire LABEL as it is."
      ]
    },
    {
      "cell_type": "code",
      "execution_count": 3,
      "metadata": {
        "id": "RJv6SnpoPkm3"
      },
      "outputs": [],
      "source": [
        "TEXT = data.Field(tokenize = 'spacy', lower = True)\n",
        "LABEL = data.LabelField()"
      ]
    },
    {
      "cell_type": "markdown",
      "metadata": {
        "id": "kTnSuz4pPkm6"
      },
      "source": [
        "Let's use TabularDataset for json type file here. We extract the entirety of our data into something like dictionary with three keys, 'headline', 'desc', and 'category' that corresponds to each news' headline, short description, and category."
      ]
    },
    {
      "cell_type": "code",
      "execution_count": 4,
      "metadata": {
        "id": "WnCAcFy7Pkm7"
      },
      "outputs": [],
      "source": [
        "news = data.TabularDataset(\n",
        "    path='data/News_Category_Dataset_v2.json', format='json',\n",
        "    fields={'headline': ('headline', TEXT),\n",
        "            'short_description' : ('desc', TEXT),\n",
        "             'category': ('category', LABEL)})"
      ]
    },
    {
      "cell_type": "markdown",
      "metadata": {
        "id": "EiUriad6Pkm8"
      },
      "source": [
        "Further split our dataset into training set trn, validation set vld, and test set tst using seed for reproducible result."
      ]
    },
    {
      "cell_type": "code",
      "execution_count": 5,
      "metadata": {
        "id": "ITkUm5v2Pkm-"
      },
      "outputs": [],
      "source": [
        "import random\n",
        "SEED = 1234\n",
        "from tqdm import tqdm_notebook, tqdm\n",
        "\n",
        "trn, vld, tst = news.split(split_ratio=[0.7, 0.2, 0.1], random_state = random.seed(SEED))"
      ]
    },
    {
      "cell_type": "markdown",
      "metadata": {
        "id": "GgjzbhVAPknE"
      },
      "source": [
        "We will check an example of our data. It should comprises parsed headline, description, and the associated category."
      ]
    },
    {
      "cell_type": "code",
      "execution_count": 6,
      "metadata": {
        "id": "JWVJFOSSPknG"
      },
      "outputs": [],
      "source": [
        "# vars(trn[0])"
      ]
    },
    {
      "cell_type": "markdown",
      "metadata": {
        "id": "irK9Yj6gPknG"
      },
      "source": [
        "We build our vocabulary from our datasets and convert it into vectors from glove. From there we check how many vocabularies we have from our text and how many categories we have."
      ]
    },
    {
      "cell_type": "code",
      "execution_count": 7,
      "metadata": {
        "id": "PbfDERl2PknI"
      },
      "outputs": [],
      "source": [
        "TEXT.build_vocab(trn, \n",
        "                 vectors = \"glove.6B.100d\", \n",
        "                 unk_init = torch.Tensor.normal_)\n",
        "\n",
        "LABEL.build_vocab(trn)"
      ]
    },
    {
      "cell_type": "code",
      "execution_count": 8,
      "metadata": {
        "id": "o8aP-RtlPknK"
      },
      "outputs": [],
      "source": [
        "# https://stackoverflow.com/questions/7368789/convert-all-strings-in-a-list-to-int\n",
        "# https://www.askpython.com/python/built-in-methods/python-vars-method\n",
        "# Get the class frequencies out of the vocab\n",
        "\n",
        "vocab = vars(LABEL.vocab)\n",
        "freqs = list(vocab['freqs'].values())\n",
        "freqs = list(map(int, freqs))\n",
        "freqs.sort(reverse=True)"
      ]
    },
    {
      "cell_type": "markdown",
      "metadata": {
        "id": "_pojBo-SPknO"
      },
      "source": [
        "Here, let's wrap out data to get the relevant iterator for our training, validation, as well as test sets."
      ]
    },
    {
      "cell_type": "code",
      "execution_count": 9,
      "metadata": {
        "id": "GT2fvIGgPknP"
      },
      "outputs": [],
      "source": [
        "BATCH_SIZE = 64\n",
        "\n",
        "device = torch.device('cuda:0' if torch.cuda.is_available() else 'cpu')\n",
        "\n",
        "train_iterator, valid_iterator, test_iterator = data.BucketIterator.splits(\n",
        "    (trn, vld, tst), \n",
        "    batch_size = BATCH_SIZE, \n",
        "    device = device,\n",
        "    sort_key= lambda x: len(x.headline), \n",
        "    sort_within_batch= False\n",
        "    )"
      ]
    },
    {
      "cell_type": "markdown",
      "metadata": {
        "id": "dd6GvmdHPknR"
      },
      "source": [
        "**Building the Model**\n",
        "\n",
        "In this section, we define our model. Since we are trying to classify the news based on its headline and short description that are in the form of sentences or paragraphs, we are going to use sequential model that is LSTM (Long Short Term Memory). More specifically, we use bidirectional and two-layered LSTM layer hopefully to get better accuracy for our prediction. We also implement regularization by using dropout during our forward pass. In this model, we specifically split the processing for the headline and short description and concatenate them before final processing to get the prediction of our news' category. The detail can be seen in the diagram below:\n",
        "\n",
        "![](https://i.imgur.com/6nXjqx8.png)"
      ]
    },
    {
      "cell_type": "code",
      "execution_count": 10,
      "metadata": {
        "id": "v7TK8Ic_PknS"
      },
      "outputs": [],
      "source": [
        "import torch.nn as nn\n",
        "\n",
        "class RNN(nn.Module):\n",
        "    def __init__(self, vocab_size, embedding_dim, hidden_dim, output_dim, n_layers, bidirectional, dropout):\n",
        "        \n",
        "        super().__init__()\n",
        "                \n",
        "        self.embedding = nn.Embedding(vocab_size, embedding_dim).to(device)\n",
        "        \n",
        "        self.lstm_head = nn.LSTM(embedding_dim, hidden_dim, num_layers = n_layers, bidirectional = bidirectional, dropout = dropout).to(device)\n",
        "        \n",
        "        self.lstm_desc = nn.LSTM(embedding_dim, hidden_dim, num_layers = n_layers, bidirectional = bidirectional, dropout = dropout).to(device)\n",
        "        \n",
        "        self.fc_head = nn.Linear(hidden_dim * 2, 100).to(device)\n",
        "        \n",
        "        self.fc_desc = nn.Linear(hidden_dim * 2, 100).to(device)\n",
        "\n",
        "        self.fc_total = nn.Linear(200, output_dim).to(device)\n",
        "        \n",
        "        self.dropout = nn.Dropout(dropout).to(device)\n",
        "                \n",
        "    def forward(self, headline, description):\n",
        "                        \n",
        "        embedded_head = self.dropout(self.embedding(headline))\n",
        "        \n",
        "        embedded_desc = self.dropout(self.embedding(description))\n",
        "                                    \n",
        "        output_head, (hidden_head, cell_head) = self.lstm_head(embedded_head)\n",
        "        \n",
        "        output_desc, (hidden_desc, cell_desc) = self.lstm_desc(embedded_desc)\n",
        "        \n",
        "        hidden_head = self.dropout(torch.cat((hidden_head[-2, :, :], hidden_head[-1, :, :]), dim = 1))\n",
        "        \n",
        "        hidden_desc = self.dropout(torch.cat((hidden_desc[-2, :, :], hidden_desc[-1, :, :]), dim = 1))\n",
        "        \n",
        "        full_head = self.fc_head(hidden_head)\n",
        "        \n",
        "        full_desc = self.fc_desc(hidden_desc)\n",
        "        \n",
        "        hidden_total = torch.cat((full_head, full_desc), 1)\n",
        "        \n",
        "        return self.fc_total(hidden_total)"
      ]
    },
    {
      "cell_type": "markdown",
      "metadata": {
        "id": "RVSdPHJnPknU"
      },
      "source": [
        "Now we create our model and check how many parameters we are training."
      ]
    },
    {
      "cell_type": "code",
      "execution_count": 11,
      "metadata": {
        "id": "Zw8gUK22PknU"
      },
      "outputs": [],
      "source": [
        "INPUT_DIM = len(TEXT.vocab)\n",
        "EMBEDDING_DIM = 100\n",
        "HIDDEN_DIM = 256\n",
        "OUTPUT_DIM = len(LABEL.vocab)\n",
        "N_LAYERS = 2\n",
        "BIDIRECTIONAL = True\n",
        "DROPOUT = 0.2\n",
        "\n",
        "model = RNN(INPUT_DIM, EMBEDDING_DIM, HIDDEN_DIM, OUTPUT_DIM, N_LAYERS, BIDIRECTIONAL, DROPOUT)"
      ]
    },
    {
      "cell_type": "code",
      "execution_count": 12,
      "metadata": {
        "colab": {
          "base_uri": "https://localhost:8080/"
        },
        "id": "DWDZ-LfqPknV",
        "outputId": "0467f4f4-a74e-4cc1-b0c3-85853c9ddf90"
      },
      "outputs": [
        {
          "name": "stdout",
          "output_type": "stream",
          "text": [
            "The model has 12,590,629 trainable parameters\n"
          ]
        }
      ],
      "source": [
        "def count_parameters(model):\n",
        "    return sum(p.numel() for p in model.parameters() if p.requires_grad)\n",
        "\n",
        "print(f'The model has {count_parameters(model):,} trainable parameters')"
      ]
    },
    {
      "cell_type": "markdown",
      "metadata": {
        "id": "cz5cWx2LPknX"
      },
      "source": [
        "Next, replace the initial weights of the embedding layers with the pre-trained embeddings."
      ]
    },
    {
      "cell_type": "code",
      "execution_count": 13,
      "metadata": {
        "id": "K5NpYUADPknY"
      },
      "outputs": [],
      "source": [
        "pretrained_embeddings = TEXT.vocab.vectors"
      ]
    },
    {
      "cell_type": "code",
      "execution_count": 14,
      "metadata": {
        "colab": {
          "base_uri": "https://localhost:8080/"
        },
        "id": "1RM21W6fPknY",
        "outputId": "2ab2ac14-91ab-4ff0-f31d-abb565277ff4"
      },
      "outputs": [
        {
          "data": {
            "text/plain": [
              "tensor([[ 0.4826, -0.1685,  2.0008,  ..., -1.3342,  0.8577, -1.2199],\n",
              "        [-1.1386, -0.7247, -0.2866,  ..., -1.4555,  0.8611,  0.7479],\n",
              "        [-0.0382, -0.2449,  0.7281,  ..., -0.1459,  0.8278,  0.2706],\n",
              "        ...,\n",
              "        [ 1.8868, -1.6398,  0.3608,  ...,  1.5957,  0.0961, -0.4295],\n",
              "        [ 0.0516,  1.1502,  0.3369,  ..., -0.4677,  1.5064,  0.0974],\n",
              "        [ 1.7845,  0.3459,  0.0972,  ...,  0.1148, -1.2032, -0.1441]],\n",
              "       device='cuda:0')"
            ]
          },
          "execution_count": 14,
          "metadata": {},
          "output_type": "execute_result"
        }
      ],
      "source": [
        "model.embedding.weight.data.copy_(pretrained_embeddings)"
      ]
    },
    {
      "cell_type": "markdown",
      "metadata": {
        "id": "nfeOOpcRPknZ"
      },
      "source": [
        "**Training the Model**"
      ]
    },
    {
      "cell_type": "markdown",
      "metadata": {
        "id": "dZ6Kx51hPkna"
      },
      "source": [
        "We choose Adam algorithm as our optimizer, as well as cross entropy loss for our loss function since we are doing classification problem with multiple categories. We also define the function to calculate accuracy of our prediction."
      ]
    },
    {
      "cell_type": "code",
      "execution_count": 15,
      "metadata": {
        "id": "_Ym49ofEPkna"
      },
      "outputs": [],
      "source": [
        "import torch.optim as optim\n",
        "\n",
        "optimizer = optim.Adam(model.parameters())"
      ]
    },
    {
      "cell_type": "code",
      "execution_count": 45,
      "metadata": {
        "colab": {
          "base_uri": "https://localhost:8080/"
        },
        "id": "kl5JElqwPkna",
        "outputId": "b89073dd-7126-4e4c-adca-06449eb86c73"
      },
      "outputs": [
        {
          "name": "stdout",
          "output_type": "stream",
          "text": [
            "None\n"
          ]
        }
      ],
      "source": [
        "# https://stackoverflow.com/questions/66074684/runtimeerror-expected-scalar-type-double-but-found-float-in-pytorch-cnn-train\n",
        "# https://pytorch.org/docs/stable/generated/torch.nn.CrossEntropyLoss.html?highlight=crossentropy#torch.nn.CrossEntropyLoss\n",
        "# set the loss function and weighting scheme\n",
        "\n",
        "from DiceLoss import DiceLoss\n",
        "from focal_loss import FocalLoss\n",
        "from LDAMLoss import LDAMLoss\n",
        "import weights\n",
        "\n",
        "losstype = \"focal\"\n",
        "weighttype = \"simple\"\n",
        "\n",
        "# ins\n",
        "# isns\n",
        "# classbal\n",
        "# simple\n",
        "\n",
        "w = None\n",
        "w = weights.weightweight(freqs,type=weighttype)\n",
        "w = w.to(device)\n",
        "\n",
        "if losstype == \"focal\":\n",
        "    criterion = FocalLoss(weight=w, gamma=1) \n",
        "elif losstype == \"dice\":\n",
        "    criterion = DiceLoss()\n",
        "elif losstype == \"crossentropy\":\n",
        "    criterion = nn.CrossEntropyLoss(weight=w)\n",
        "elif losstype == \"LDAM\":\n",
        "    criterion == LDAMLoss()\n",
        "\n",
        "model = model.to(device)\n",
        "criterion = criterion.to(device)\n",
        "\n",
        "print(w)"
      ]
    },
    {
      "cell_type": "code",
      "execution_count": 46,
      "metadata": {
        "id": "0WeqxfLPPknb"
      },
      "outputs": [],
      "source": [
        "def categorical_accuracy(preds, y):\n",
        "    max_preds = preds.argmax(dim = 1, keepdim = True).to(device)\n",
        "    correct = max_preds.squeeze(1).eq(y).to(device)\n",
        "    return correct.sum() / torch.FloatTensor([y.shape[0]]).to(device)"
      ]
    },
    {
      "cell_type": "markdown",
      "metadata": {
        "id": "PqA2ghEHPknc"
      },
      "source": [
        "Here we define the training and evaluate part of our model."
      ]
    },
    {
      "cell_type": "code",
      "execution_count": 47,
      "metadata": {
        "id": "TT5NTYWJPknc"
      },
      "outputs": [],
      "source": [
        "def train(model, iterator, optimizer, criterion):\n",
        "    \n",
        "    epoch_loss = 0\n",
        "    epoch_acc = 0\n",
        "    \n",
        "    model.train()\n",
        "\n",
        "    # Get the progress bar for later modification\n",
        "    # progress_bar = tqdm_notebook(iterator, ascii=True)\n",
        "    for idx, batch in enumerate(iterator):\n",
        "        \n",
        "        optimizer.zero_grad()\n",
        "                        \n",
        "        predictions = model(batch.headline, batch.desc)\n",
        "        predictions = predictions.squeeze(1)\n",
        "        \n",
        "        loss = criterion(predictions, batch.category)\n",
        "        \n",
        "        acc = categorical_accuracy(predictions, batch.category)\n",
        "\n",
        "        loss.backward()\n",
        "        \n",
        "        optimizer.step()\n",
        "        \n",
        "        epoch_loss += loss.item()\n",
        "        epoch_acc += acc.item()\n",
        "        \n",
        "    return epoch_loss / len(iterator), epoch_acc / len(iterator)"
      ]
    },
    {
      "cell_type": "code",
      "execution_count": 48,
      "metadata": {
        "id": "AHeStEV0Pknc"
      },
      "outputs": [],
      "source": [
        "def evaluate(model, iterator, criterion):\n",
        "    \n",
        "    epoch_loss = 0\n",
        "    epoch_acc = 0\n",
        "    \n",
        "    model.eval()\n",
        "    \n",
        "    with torch.no_grad():\n",
        "    \n",
        "        for batch in iterator:\n",
        "            \n",
        "            predictions = model(batch.headline, batch.desc).squeeze(1)\n",
        "            \n",
        "            loss = criterion(predictions, batch.category)\n",
        "            \n",
        "            acc = categorical_accuracy(predictions, batch.category)\n",
        "\n",
        "            epoch_loss += loss.item()\n",
        "            epoch_acc += acc.item()\n",
        "        \n",
        "    return epoch_loss / len(iterator), epoch_acc / len(iterator)\n"
      ]
    },
    {
      "cell_type": "code",
      "execution_count": 49,
      "metadata": {
        "id": "Gbd-EKJDPknc"
      },
      "outputs": [],
      "source": [
        "import time\n",
        "\n",
        "def epoch_time(start_time, end_time):\n",
        "    elapsed_time = end_time - start_time\n",
        "    elapsed_mins = int(elapsed_time / 60)\n",
        "    elapsed_secs = int(elapsed_time - (elapsed_mins * 60))\n",
        "    return elapsed_mins, elapsed_secs\n"
      ]
    },
    {
      "cell_type": "markdown",
      "metadata": {
        "id": "83zywUi9Pknd"
      },
      "source": [
        "Now we are ready to train our model. We will train it for five epochs."
      ]
    },
    {
      "cell_type": "code",
      "execution_count": 50,
      "metadata": {
        "colab": {
          "base_uri": "https://localhost:8080/"
        },
        "id": "72pylcxIPknd",
        "outputId": "f25e5767-bd47-4579-ca99-83c92977fa55"
      },
      "outputs": [
        {
          "name": "stderr",
          "output_type": "stream",
          "text": [
            "/content/drive/My Drive/7643/final/focal_loss.py:40: UserWarning: volatile was removed (Variable.volatile is always False)\n",
            "  mask = Variable(mask, volatile=index.volatile).to(device)\n"
          ]
        },
        {
          "name": "stdout",
          "output_type": "stream",
          "text": [
            "Epoch: 01 | Epoch Time: 1m 58s\n",
            "\tTrain Loss: 7.187 | Train Acc: 94.21%\n",
            "\t Val. Loss: 129.674 |  Val. Acc: 61.92%\n",
            "Epoch: 02 | Epoch Time: 1m 59s\n",
            "\tTrain Loss: 6.344 | Train Acc: 94.90%\n",
            "\t Val. Loss: 135.008 |  Val. Acc: 61.41%\n",
            "Epoch: 03 | Epoch Time: 1m 59s\n",
            "\tTrain Loss: 6.029 | Train Acc: 95.11%\n",
            "\t Val. Loss: 139.273 |  Val. Acc: 61.82%\n",
            "Epoch: 04 | Epoch Time: 1m 58s\n",
            "\tTrain Loss: 5.731 | Train Acc: 95.39%\n",
            "\t Val. Loss: 136.786 |  Val. Acc: 61.32%\n",
            "Epoch: 05 | Epoch Time: 1m 59s\n",
            "\tTrain Loss: 5.381 | Train Acc: 95.64%\n",
            "\t Val. Loss: 137.758 |  Val. Acc: 61.95%\n"
          ]
        }
      ],
      "source": [
        "N_EPOCHS = 5\n",
        "\n",
        "best_valid_loss = float('inf')\n",
        "\n",
        "for epoch in range(N_EPOCHS):\n",
        "\n",
        "    start_time = time.time()\n",
        "    \n",
        "    train_loss, train_acc = train(model, train_iterator, optimizer, criterion)\n",
        "    valid_loss, valid_acc = evaluate(model, valid_iterator, criterion)\n",
        "\n",
        "    end_time = time.time()\n",
        "\n",
        "    epoch_mins, epoch_secs = epoch_time(start_time, end_time)\n",
        "    \n",
        "    if valid_loss < best_valid_loss:\n",
        "        best_epoch = epoch\n",
        "        best_valid_loss = valid_loss\n",
        "        torch.save(model.state_dict(), 'news_classification_model.pt')\n",
        "    \n",
        "    print(f'Epoch: {epoch+1:02} | Epoch Time: {epoch_mins}m {epoch_secs}s')\n",
        "    print(f'\\tTrain Loss: {train_loss:.3f} | Train Acc: {train_acc*100:.2f}%')\n",
        "    print(f'\\t Val. Loss: {valid_loss:.3f} |  Val. Acc: {valid_acc*100:.2f}%')\n"
      ]
    },
    {
      "cell_type": "markdown",
      "metadata": {
        "id": "ZRExLsKOPknf"
      },
      "source": [
        "And we test it with our best model."
      ]
    },
    {
      "cell_type": "code",
      "execution_count": 51,
      "metadata": {
        "colab": {
          "base_uri": "https://localhost:8080/"
        },
        "id": "reR_lErRPknf",
        "outputId": "49b4d270-9963-4841-a926-4ffabb7d3f21"
      },
      "outputs": [
        {
          "name": "stdout",
          "output_type": "stream",
          "text": [
            "0\n"
          ]
        },
        {
          "name": "stderr",
          "output_type": "stream",
          "text": [
            "/content/drive/My Drive/7643/final/focal_loss.py:40: UserWarning: volatile was removed (Variable.volatile is always False)\n",
            "  mask = Variable(mask, volatile=index.volatile).to(device)\n"
          ]
        },
        {
          "name": "stdout",
          "output_type": "stream",
          "text": [
            "Test Loss: 138.726 | Test Acc: 61.83%\n"
          ]
        }
      ],
      "source": [
        "print(best_epoch)\n",
        "test_loss, test_acc = evaluate(model, test_iterator, criterion)\n",
        "\n",
        "print(f'Test Loss: {test_loss:.3f} | Test Acc: {test_acc*100:.2f}%')"
      ]
    },
    {
      "cell_type": "markdown",
      "metadata": {
        "id": "dwE08mwsPknf"
      },
      "source": [
        "**User Input**\n",
        "\n",
        "In this section, we let ourself to put our own input and let the model predict the news' categories beyond the dataset. For consistencies, we will use news from Huffington Post and try to get its category predicted. Make sure that the first input is the headline and the second input is the short description of the article.\n",
        "\n",
        "News can be obtained from [here](https://www.huffpost.com/)."
      ]
    },
    {
      "cell_type": "code",
      "execution_count": null,
      "metadata": {
        "id": "5c3vc-23Pknf"
      },
      "outputs": [],
      "source": [
        "import spacy\n",
        "nlp = spacy.load('en')\n",
        "\n",
        "def predict_category(model, head, desc):\n",
        "    model.eval()\n",
        "    head = head.lower()\n",
        "    desc = desc.lower()\n",
        "    tokenized_head = [tok.text for tok in nlp.tokenizer(head)]\n",
        "    tokenized_desc = [tok.text for tok in nlp.tokenizer(desc)]\n",
        "    indexed_head = [TEXT.vocab.stoi[t] for t in tokenized_head]\n",
        "    indexed_desc = [TEXT.vocab.stoi[t] for t in tokenized_desc]\n",
        "    tensor_head = torch.LongTensor(indexed_head).to(device)\n",
        "    tensor_desc = torch.LongTensor(indexed_desc).to(device)\n",
        "    tensor_head = tensor_head.unsqueeze(1)\n",
        "    tensor_desc = tensor_desc.unsqueeze(1)\n",
        "    prediction = model(tensor_head, tensor_desc)\n",
        "    max_pred = prediction.argmax(dim=1)\n",
        "    return max_pred.item()"
      ]
    },
    {
      "cell_type": "markdown",
      "metadata": {
        "id": "-WezLkxuPknh"
      },
      "source": [
        "News headline: Trump’s Art Of Distraction\n",
        "\n",
        "News short description: The conversation surrounding Trump’s latest racist rants has provoked us to revisit author Toni Morrison’s 1975 keynote address at Portland State University on the true purpose of racism.\n",
        "\n",
        "Correct category: Politics"
      ]
    },
    {
      "cell_type": "code",
      "execution_count": null,
      "metadata": {
        "id": "d2fgeoYrPkni"
      },
      "outputs": [],
      "source": [
        "pred = predict_category(model, \"Trump’s Art Of Distraction\", \"The conversation surrounding Trump’s latest racist rants has provoked us to revisit author Toni Morrison’s 1975 keynote address at Portland State University on the true purpose of racism..\")\n",
        "print(f'Predicted category is: {pred} = {LABEL.vocab.itos[pred]}')"
      ]
    },
    {
      "cell_type": "markdown",
      "metadata": {
        "id": "fryaoSGZPknj"
      },
      "source": [
        "News headline: Indiana Cop Apologizes After Accusing McDonald’s Worker Of Eating His Sandwich\n",
        "\n",
        "News short description: The Marion County sheriff’s deputy forgot he had taken a bite out of his McChicken earlier that day, authorities said.\n",
        "\n",
        "Correct category: U.S. News"
      ]
    },
    {
      "cell_type": "code",
      "execution_count": null,
      "metadata": {
        "id": "A0I_HGBDPknj"
      },
      "outputs": [],
      "source": [
        "pred = predict_category(model, \"Indiana Cop Apologizes After Accusing McDonald’s Worker Of Eating His Sandwich\", \"The Marion County sheriff’s deputy forgot he had taken a bite out of his McChicken earlier that day, authorities said.\")\n",
        "print(f'Predicted category is: {pred} = {LABEL.vocab.itos[pred]}')"
      ]
    },
    {
      "cell_type": "markdown",
      "metadata": {
        "id": "UhE8shSQPknk"
      },
      "source": [
        "News headline: Kyle ‘Bugha’ Giersdorf, 16, Wins Fortnite World Cup And Takes Home $ 3 Million Prize\n",
        "\n",
        "News short description: Fortnite has nearly 250 million registered players and raked in an estimated $2.4 billion last year.\n",
        "\n",
        "Correct category: Sports"
      ]
    },
    {
      "cell_type": "code",
      "execution_count": null,
      "metadata": {
        "id": "v6uABUB5Pknl"
      },
      "outputs": [],
      "source": [
        "pred = predict_category(model, \"Kyle ‘Bugha’ Giersdorf, 16, Wins Fortnite World Cup And Takes Home $ 3 Million Prize\", \"Fortnite has nearly 250 million registered players and raked in an estimated $2.4 billion last year.\")\n",
        "print(f'Predicted category is: {pred} = {LABEL.vocab.itos[pred]}')"
      ]
    },
    {
      "cell_type": "markdown",
      "metadata": {
        "id": "iVuxTREvPknm"
      },
      "source": [
        "**References**\n",
        "\n",
        "This notebook was created thanks to the two references below.\n",
        "* http://mlexplained.com/2018/02/08/a-comprehensive-tutorial-to-torchtext/\n",
        "* https://github.com/bentrevett/pytorch-sentiment-analysis/blob/master/2%20-%20Upgraded%20Sentiment%20Analysis.ipynb"
      ]
    }
  ],
  "metadata": {
    "accelerator": "GPU",
    "colab": {
      "collapsed_sections": [],
      "name": "news-classification-lstm-and-dice-loss.ipynb",
      "provenance": []
    },
    "kernelspec": {
      "display_name": "Python 3 (ipykernel)",
      "language": "python",
      "name": "python3"
    },
    "language_info": {
      "codemirror_mode": {
        "name": "ipython",
        "version": 3
      },
      "file_extension": ".py",
      "mimetype": "text/x-python",
      "name": "python",
      "nbconvert_exporter": "python",
      "pygments_lexer": "ipython3",
      "version": "3.8.8"
    }
  },
  "nbformat": 4,
  "nbformat_minor": 0
}
